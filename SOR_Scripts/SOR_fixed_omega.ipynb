{
 "cells": [
  {
   "cell_type": "code",
   "execution_count": 587,
   "id": "114bfaa7-6f0f-429a-ad2b-56eddbc9446b",
   "metadata": {
    "tags": []
   },
   "outputs": [
    {
     "name": "stdout",
     "output_type": "stream",
     "text": [
      "Solution has converged\n",
      "For size of A matrix: 100\n",
      "Number of iterations to converge solution: 7\n",
      "Time take to converge to solution: 0.31102895736694336\n",
      "Value of x: 10.00002959861573\n",
      "   Iteration    Residual      Time\n",
      "0          0  476.177993  0.065375\n",
      "1          1   39.852100  0.108378\n",
      "2          2    9.802447  0.156549\n",
      "3          3    1.634591  0.192162\n",
      "4          4    0.220930  0.230051\n",
      "5          5    0.053508  0.271365\n",
      "6          6    0.008014  0.310150\n"
     ]
    },
    {
     "data": {
      "text/plain": [
       "Text(0, 0.5, 'Residual')"
      ]
     },
     "execution_count": 587,
     "metadata": {},
     "output_type": "execute_result"
    },
    {
     "data": {
      "text/plain": [
       "<Figure size 432x288 with 0 Axes>"
      ]
     },
     "metadata": {},
     "output_type": "display_data"
    },
    {
     "data": {
      "image/png": "[encoded data removed]",
      "text/plain": [
       "<Figure size 1440x360 with 1 Axes>"
      ]
     },
     "metadata": {
      "needs_background": "light"
     },
     "output_type": "display_data"
    }
   ],
   "source": [
    "# Converting MATLAB SOR Function to Python for Successive Over Relaxation\n",
    "import time\n",
    "import sys\n",
    "import numpy as np\n",
    "import matplotlib.pyplot as plt\n",
    "np.set_printoptions(threshold=sys.maxsize)\n",
    "\n",
    "def SOR(A, b ,w, convergence):\n",
    "    \n",
    "    tic = time.time()\n",
    "\n",
    "    #Defining critical values\n",
    "    n = len(b) #Identify dimension of n\n",
    "    xnew = np.zeros((n,1))\n",
    "    residual = np.linalg.norm(np.matmul(A, xnew) - b)\n",
    "    itera = 0 #iteration counter\n",
    "    backstop = 100 #end program after \"\" iterations\n",
    "    global df_residual #making the dataframe a global variable to call it from function\n",
    "    data=[]\n",
    "\n",
    "    \n",
    "    while residual > convergence:\n",
    "        \n",
    "        xprev = xnew[:] #xprev takes on the previous x values each iteration\n",
    "\n",
    "        for i in range(n):\n",
    "            \n",
    "            sigma = 0 #reset sigma every iteration\n",
    "            \n",
    "            for j in range(n):\n",
    "                \n",
    "                #Create exception diagonal elements\n",
    "                if j != i:\n",
    "                        \n",
    "                   #Summing the upper and lower matrix triangles togther \n",
    "                    sigma += (A[i,j] * xprev[j])\n",
    "     \n",
    "            #Main Equation for SOR\n",
    "            xnew[i] = + (1-w)*xprev[i]+((w/A[i,i]) * (b[i] - sigma)) \n",
    "            \n",
    "        \n",
    "        #Calculating residual value\n",
    "        residual = (np.linalg.norm(np.matmul(A, xnew) - b))\n",
    "    \n",
    "        #Appending Data into Individual Lists at end of each loop\n",
    "        data.append([itera, residual, time.time() - tic])\n",
    "        \n",
    "        #Iteration Counter\n",
    "        itera += 1\n",
    "        \n",
    "        #Prevent program running infinitely\n",
    "        if itera > backstop: \n",
    "            df_residual = pd.DataFrame(data, columns=['Iteration','Residual','Time'])\n",
    "            break\n",
    "        \n",
    "    #Output\n",
    "    df_residual = pd.DataFrame(data, columns=['Iteration','Residual','Time'])\n",
    "    x = np.linalg.norm(xnew)\n",
    "    toc = time.time() - tic\n",
    "    \n",
    "    if residual < convergence:\n",
    "        print('Solution has converged')\n",
    "        print('For size of A matrix:', n)\n",
    "        print('Number of iterations to converge solution:', itera)\n",
    "        print('Time take to converge to solution:', toc)\n",
    "        print('Value of x:', x)\n",
    "    \n",
    "    else:\n",
    "        print('Solution has not converged')\n",
    "                  \n",
    "#Performing SOR function at fixed relaxation factor in Python\n",
    "\n",
    "w = 0.9          #Relaxation factor \n",
    "convergence = 0.01  #Convergence critiera\n",
    "n = 100             #Size of nxn matrix\n",
    "A = np.ones((n,n))  #Defining Dimensions of A Array\n",
    "b = np.zeros((n,1)) #Defining Dimensions of b vector\n",
    "\n",
    "\n",
    "for i in range(n):\n",
    "     A[i,i] = n   #Add diagonal n\n",
    "     b[i] = 2*n - 1 #Add b variable to b vector\n",
    "\n",
    "SOR(A,b,w,convergence)\n",
    "print(df_residual)\n",
    "\n",
    "#Plotting Residual vs Time\n",
    "plt.figure()\n",
    "df_residual.plot(x = \"Time\", y= \"Residual\",kind=\"line\",figsize=(20, 5),fontsize=14)\n",
    "plt.xlabel(\"Program Runtime (s)\", labelpad=20,fontsize=14)\n",
    "plt.ylabel(\"Residual\", labelpad=20,fontsize=14)\n",
    "\n",
    "\n"
   ]
  },
  {
   "cell_type": "code",
   "execution_count": null,
   "id": "5f315bc5-ca54-403f-9615-0ee59fe3c5de",
   "metadata": {},
   "outputs": [],
   "source": []
  },
  {
   "cell_type": "code",
   "execution_count": null,
   "id": "41cf3bd1-fb26-4795-8252-2dd75500a893",
   "metadata": {},
   "outputs": [],
   "source": []
  },
  {
   "cell_type": "code",
   "execution_count": null,
   "id": "40910ba7-e689-4384-94b3-d376246e9080",
   "metadata": {},
   "outputs": [],
   "source": []
  }
 ],
 "metadata": {
  "kernelspec": {
   "display_name": "Python 3",
   "language": "python",
   "name": "python3"
  },
  "language_info": {
   "codemirror_mode": {
    "name": "ipython",
    "version": 3
   },
   "file_extension": ".py",
   "mimetype": "text/x-python",
   "name": "python",
   "nbconvert_exporter": "python",
   "pygments_lexer": "ipython3",
   "version": "3.9.5"
  }
 },
 "nbformat": 4,
 "nbformat_minor": 5
}
