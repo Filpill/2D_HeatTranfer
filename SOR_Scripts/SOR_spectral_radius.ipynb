{
 "cells": [
  {
   "cell_type": "code",
   "execution_count": 198,
   "id": "4eac6f68-b589-4522-bee3-79e14ab50072",
   "metadata": {},
   "outputs": [
    {
     "name": "stdout",
     "output_type": "stream",
     "text": [
      "    Relaxation Factor    rho\n",
      "0               0.100  0.900\n",
      "1               0.155  0.845\n",
      "2               0.210  0.790\n",
      "3               0.265  0.735\n",
      "4               0.320  0.680\n",
      "5               0.375  0.625\n",
      "6               0.430  0.570\n",
      "7               0.485  0.515\n",
      "8               0.540  0.460\n",
      "9               0.595  0.405\n",
      "10              0.650  0.350\n",
      "11              0.705  0.295\n",
      "12              0.760  0.240\n",
      "13              0.815  0.185\n",
      "14              0.870  0.130\n",
      "15              0.925  0.075\n",
      "16              0.980  0.020\n",
      "17              1.035  0.035\n",
      "18              1.090  0.090\n",
      "19              1.145  0.145\n",
      "20              1.200  0.200\n",
      "0.020000000000000125\n"
     ]
    },
    {
     "name": "stderr",
     "output_type": "stream",
     "text": [
      "<ipython-input-198-92cc02681ef7>:54: RuntimeWarning: invalid value encountered in sqrt\n",
      "  rho_l = 0.25*np.power(w*eig_c +np.sqrt(np.power(w,2)*np.power(eig_c,2)-4*(w-1)),2)\n"
     ]
    },
    {
     "data": {
      "text/plain": [
       "Text(0, 0.5, 'Spectral Radius')"
      ]
     },
     "execution_count": 198,
     "metadata": {},
     "output_type": "execute_result"
    },
    {
     "data": {
      "text/plain": [
       "<Figure size 432x288 with 0 Axes>"
      ]
     },
     "metadata": {},
     "output_type": "display_data"
    },
    {
     "data": {
      "image/png": "[encoded data removed]",
      "text/plain": [
       "<Figure size 1440x360 with 1 Axes>"
      ]
     },
     "metadata": {
      "needs_background": "light"
     },
     "output_type": "display_data"
    }
   ],
   "source": [
    "# Converting MATLAB SOR Function to Python for Successive Over Relaxation\n",
    "import time\n",
    "import sys\n",
    "import pandas as pd\n",
    "import numpy as np\n",
    "import matplotlib.pyplot as plt\n",
    "np.set_printoptions(threshold=sys.maxsize)\n",
    "pd.set_option('display.max_rows',None)\n",
    "\n",
    "#Defining A and b\n",
    "n=200\n",
    "convergence = 0.1\n",
    "A = np.ones((n,n)) #Defining Dimensions of A Array\n",
    "# A = np.random.rand(n,n)\n",
    "\n",
    "\n",
    "b = np.zeros((n)) #Defining Dimensions of b vector\n",
    "itera_eval = []\n",
    "\n",
    "for i in range(n):\n",
    "     A[i,i] = n   #Add diagonal n\n",
    "     b[i] = 2*n - 1 #Add b variable to b vector\n",
    "    \n",
    "resolution = 21\n",
    "omega_vec = np.linspace(0.1,1.2,resolution)\n",
    "U = np.triu(A,1)\n",
    "L = np.tril(A,-1)\n",
    "D = np.diag(np.diag(A))\n",
    "\n",
    "\n",
    "w=1.2\n",
    "\n",
    "\n",
    "# print(C)\n",
    "\n",
    "\n",
    "spectral_data = []\n",
    "rho = 5\n",
    "\n",
    "for k in range(resolution):\n",
    "    w = omega_vec[k]\n",
    "    M = D + w*L\n",
    "    N = (1-w)*D - w*U\n",
    "    v = (np.linalg.inv(M)*N)\n",
    "    eig_vmax = np.amax(np.absolute(np.linalg.eigvals(v)))\n",
    "    C = np.identity(n) - np.linalg.inv(D)*A\n",
    "    eig_c = np.amax(np.linalg.eigvals(C))\n",
    "#     mu_c = (eig_c + w - 1)/(w * np.sqrt(eig_c))\n",
    "#     mu_c = (eig_c)/(np.sqrt(eig_c))\n",
    "\n",
    "    mu_v = (eig_vmax + w - 1)/(w * np.sqrt(eig_vmax))\n",
    "    \n",
    "#     print (mu_v)\n",
    "    rho_l = 0.25*np.power(w*eig_c +np.sqrt(np.power(w,2)*np.power(eig_c,2)-4*(w-1)),2)\n",
    "    rho_u = w - 1\n",
    "        \n",
    "    if rho > rho_l :\n",
    "        rho = rho_l\n",
    "    else:\n",
    "        rho = rho_u\n",
    "        \n",
    "#     print(M)\n",
    "#     print(np.linalg.inv(M))\n",
    "#     print(np.linalg.inv(M)*N)\n",
    "    \n",
    "    \n",
    "    spectral_data.append([w,rho])\n",
    "\n",
    "df_spectral = pd.DataFrame(spectral_data,columns = ['Relaxation Factor','rho'])\n",
    "print(df_spectral)\n",
    "\n",
    "minval = df_spectral['rho'].min()\n",
    "# maxval = df_spectral['max'].max()\n",
    "# # omega = 2./(minval*np.linalg.inv(D)*A + maxval*np.linalg.inv(D)*A)\n",
    "# omega = 1 + np.power(maxval/(1+np.sqrt(1-np.power(maxval,2))),2)\n",
    "print(minval)\n",
    "# print(maxval)\n",
    "# print(omega)\n",
    "\n",
    "#Plotting\n",
    "plt.figure()\n",
    "df_spectral.plot(x = \"Relaxation Factor\", y= [\"rho\"],kind=\"line\",figsize=(20, 5),fontsize=14)\n",
    "plt.xlabel(\"Relaxation Factor\", labelpad=20,fontsize=14)\n",
    "plt.ylabel(\"Spectral Radius\", labelpad=20,fontsize=14)\n",
    "    "
   ]
  },
  {
   "cell_type": "code",
   "execution_count": null,
   "id": "c9a204e1-26ee-41dc-848d-7498069d4459",
   "metadata": {},
   "outputs": [],
   "source": []
  },
  {
   "cell_type": "code",
   "execution_count": null,
   "id": "1212d08d-5375-4e7f-8120-d8502989b41a",
   "metadata": {},
   "outputs": [],
   "source": []
  }
 ],
 "metadata": {
  "kernelspec": {
   "display_name": "Python 3",
   "language": "python",
   "name": "python3"
  },
  "language_info": {
   "codemirror_mode": {
    "name": "ipython",
    "version": 3
   },
   "file_extension": ".py",
   "mimetype": "text/x-python",
   "name": "python",
   "nbconvert_exporter": "python",
   "pygments_lexer": "ipython3",
   "version": "3.9.5"
  }
 },
 "nbformat": 4,
 "nbformat_minor": 5
}
